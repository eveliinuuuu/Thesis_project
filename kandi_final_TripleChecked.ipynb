{
  "cells": [
    {
      "cell_type": "markdown",
      "metadata": {
        "id": "view-in-github",
        "colab_type": "text"
      },
      "source": [
        "<a href=\"https://colab.research.google.com/github/eveliinuuuu/Thesis_project/blob/main/kandi_final_TripleChecked.ipynb\" target=\"_parent\"><img src=\"https://colab.research.google.com/assets/colab-badge.svg\" alt=\"Open In Colab\"/></a>"
      ]
    },
    {
      "cell_type": "code",
      "execution_count": null,
      "metadata": {
        "id": "p05noKgoIeuh"
      },
      "outputs": [],
      "source": [
        "!pip install bravado\n",
        "!pip install lifelines\n",
        "from bravado.client import SwaggerClient\n",
        "cbioportal = SwaggerClient.from_url('https://www.cbioportal.org/api/v2/api-docs',\n",
        "                                    config={\"validate_requests\":False,\"validate_responses\":False,\"validate_swagger_spec\": False})\n",
        "for a in dir(cbioportal):\n",
        "    cbioportal.__setattr__(a.replace(' ', '_').lower(), cbioportal.__getattr__(a))\n",
        "import os\n",
        "import statistics\n",
        "import random\n",
        "from lifelines import KaplanMeierFitter"
      ]
    },
    {
      "cell_type": "code",
      "execution_count": null,
      "metadata": {
        "colab": {
          "base_uri": "https://localhost:8080/"
        },
        "id": "_s2WO78DJALL",
        "outputId": "be47ab05-3d03-4042-e340-a32a7cafb0f0"
      },
      "outputs": [
        {
          "output_type": "stream",
          "name": "stdout",
          "text": [
            "101\n",
            "100\n",
            "99\n",
            "99\n"
          ]
        }
      ],
      "source": [
        "# List of NETs whose expression is mis-regulated in prostate cancer  (from Wortman paper):\n",
        "NETs_fullList = ['NDC1','ABCB1','SUN2','ATP1B4','WFS1','UNC50','POPDC2','HVCN1','KLHL31','STT3A','CKAP4','LRRC8A','TAPBPL','TMTC3','ATP1B1','LBR','SUN1','RHBDD1','EGFR','SLC38A10','VMA21','SQSTM1','TMEM41A','SUN3','TMUB1','METTL7A','RYR1','POM121','FAM3C','TMEM199','NUP210','TRAF3','TMPO','LEMD3','TMEM43','SMPD4','APMAP','SARAF','NEMP1','NCEH1','THEM6','LPGAT1','ERLIN2','ERGIC1','TMEM201','TMEM214','LEMD2','TMEM14C','SYNE3','CTDNEP1','TMEM209','LPCAT3','TMEM53','SCARA5','PLPP7','SLC39A14','SCCPDH','TM7SF2','APH1B','MCAT','SLC22A24','TMEM38A','PLGRKT','SLC9A1','IPPK','STING1','TMEM126A','CYBC1','TMEM230','OTULINL','DHRS7','LPCAT2','TKFC','SYNE4','SUN5','SPAG4','NCLN','DDAH1','ERG28','TOR1AIP2','ALG2','MYORG','MOSPD3','TMEM70','TMEM109','NRM','RGPD5','NUP133','NUP155','RANBP2','NUP50','MLIP','EMD','SYNE1','SYNE2','LMNA','LMNB2','TMEM70','MARCHF5','TMEM120A','MAGT1']\n",
        "# remove duplicates\n",
        "print(len(NETs_fullList))\n",
        "NETs_fullList_dupRem = []\n",
        "[NETs_fullList_dupRem.append(x) for x in NETs_fullList if x not in NETs_fullList_dupRem]\n",
        "NETs_fullList = NETs_fullList_dupRem\n",
        "print(len(NETs_fullList))\n",
        "# List of NETs whose expression is mis-regulated in prostate cancer. from GO term search \"Nuclear Envelope\" http://amigo.geneontology.org/amigo/search/bioentity?q=nuclear%20envelope\n",
        "# followed by filtering by expression in prostate (nTPM>=0.5 and nuclear localization, reported in kandi_lista_eturauhasen_NET_proteiineista.tsv.xlsx\n",
        "NETs_fullList2 = ['GAPDH','ANXA5','SDCBP','CDH5','ATP5MF','SEC11A','CERS2','NDUFB4','SUMO1','CPNE1','PRNP','JPT1','CLK1','KPNB1','SURF4','TMEM205','CDK4','XPO1','STX3','TNFAIP2','SUN1','TMEM109','CYTL1','CDIPT','NR4A1','TFDP1','LEMD2','FOLR1','TXNL4A','RALBP1','KDR','TNRC18','CASC3','CPD','TMPO','SUN2','TOR1AIP1','SEC11C','PLRG1','LBR','DNAJB2','TPR','AKIRIN1','UTP18','SLC16A3','PHF11','TOR1A','RANGAP1','NUP62','EOGT','ZDHHC16','MLX','MINDY3','DCTN5','RETREG3','MX1','MRPS23','DNAJB12','EPHA3','NUDT9','RNF6','INTS14','ANKRD17','NUP153','EIF2B4','SIPA1L2','ATP6V1B1','HEY1','RCC1','AAAS','FUT11','POM121','RANBP2','POM121C','MCM3AP','ENDOD1','ARMCX6','EMD','NUP50','RB1CC1','ZC3H13','SLA','NUP133','SMPD4','ZNF224','AARSD1','LMNB2','MAD2L1BP','MRPS14','NUP107','STX2','KLHDC2','SMIM13','C2orf68','GTF3C3','CRY1','MRTO4','TMX4','KIAA0930']\n",
        "print(len(NETs_fullList2))\n",
        "NETs_fullList2_dupRem = []\n",
        "[NETs_fullList2_dupRem.append(x) for x in NETs_fullList2 if x not in NETs_fullList2_dupRem]\n",
        "NETs_fullList2 = NETs_fullList2_dupRem\n",
        "print(len(NETs_fullList2))"
      ]
    },
    {
      "cell_type": "code",
      "execution_count": null,
      "metadata": {
        "colab": {
          "base_uri": "https://localhost:8080/"
        },
        "id": "dt-iJqCuJJhg",
        "outputId": "e05e08b5-00b2-4944-830c-997fde22cb3f"
      },
      "outputs": [
        {
          "output_type": "stream",
          "name": "stdout",
          "text": [
            "mpcproject_broad_2021\n",
            "prad_tcga\n",
            "prad_fhcrc\n",
            "prad_broad\n",
            "prad_mskcc\n",
            "prad_mskcc_2014\n",
            "prad_su2c_2015\n",
            "nepc_wcm_2016\n",
            "prad_cpcg_2017\n",
            "prad_p1000\n",
            "prostate_dkfz_2018\n",
            "prad_msk_2019\n",
            "prad_mskcc_cheny1_organoids_2014\n",
            "prostate_pcbm_swiss_2019\n",
            "prad_organoids_msk_2022\n",
            "prad_su2c_2019\n",
            "prad_broad_2013\n",
            "prad_eururol_2017\n",
            "prad_cdk12_mskcc_2020\n",
            "prad_mich\n",
            "prad_tcga_pub\n",
            "prad_mskcc_2017\n",
            "prad_mcspc_mskcc_2020\n",
            "prad_msk_stopsack_2021\n",
            "prad_pik3r1_msk_2021\n",
            "prad_tcga_pan_can_atlas_2018\n"
          ]
        }
      ],
      "source": [
        "# Open all studies from cbioportal and generate the list including all prostate cancer studies (25)\n",
        "studies = cbioportal.Studies.getAllStudiesUsingGET().result()\n",
        "PCa_studies = []\n",
        "for index in range(len(studies)):\n",
        "    if studies[index].cancerTypeId=='prostate':\n",
        "        print(studies[index].studyId)\n",
        "        PCa_studies.append(studies[index].studyId)\n",
        "    if studies[index].cancerTypeId=='bccp':\n",
        "        print(studies[index].studyId)\n",
        "        PCa_studies.append(studies[index].studyId)\n",
        "    if studies[index].cancerTypeId=='prad':\n",
        "        print(studies[index].studyId)\n",
        "        PCa_studies.append(studies[index].studyId)\n",
        "    if studies[index].cancerTypeId=='prne':\n",
        "        print(studies[index].studyId)\n",
        "        PCa_studies.append(studies[index].studyId)\n",
        "    if studies[index].cancerTypeId=='prsc':\n",
        "        print(studies[index].studyId)\n",
        "        PCa_studies.append(studies[index].studyId)\n",
        "    if studies[index].cancerTypeId=='prscc':\n",
        "        print(studies[index].studyId)\n",
        "        PCa_studies.append(studies[index].studyId)"
      ]
    },
    {
      "cell_type": "code",
      "execution_count": null,
      "metadata": {
        "colab": {
          "base_uri": "https://localhost:8080/"
        },
        "id": "uZxhOGvOJWGe",
        "outputId": "cb6c90f5-0885-486b-d855-f916b157da2d"
      },
      "outputs": [
        {
          "output_type": "stream",
          "name": "stdout",
          "text": [
            "['prad_tcga', 'prad_mskcc_2014', 'prad_organoids_msk_2022', 'prad_su2c_2019', 'prad_mcspc_mskcc_2020', 'prad_pik3r1_msk_2021', 'prad_tcga_pan_can_atlas_2018', 'prad_mich']\n"
          ]
        }
      ],
      "source": [
        "# Now exclude from this list all the studies for which OS_MONTHS data is not available\n",
        "selected_studies = []\n",
        "for studyID in PCa_studies:\n",
        "    # find out the patientId of the first patient in the study, then check if he/she has OS_MONTHS data available\n",
        "    patientlist = cbioportal.Patients.getAllPatientsInStudyUsingGET(studyId=studyID).result()\n",
        "    patient0_clinicalData = cbioportal.Clinical_Data.getAllClinicalDataOfPatientInStudyUsingGET(studyId = studyID,patientId = patientlist[0].patientId).result()\n",
        "    #print(studyID)\n",
        "    for clinicalfeature in range(len(patient0_clinicalData)):\n",
        "        #print(patient0_clinicalData[clinicalfeature].clinicalAttributeId)\n",
        "\n",
        "        if patient0_clinicalData[clinicalfeature].clinicalAttributeId == 'OS_MONTHS' or patient0_clinicalData[clinicalfeature].clinicalAttributeId == 'OS_SMP_MONTHS':\n",
        "            #print(studyID)\n",
        "            selected_studies.append(studyID)\n",
        "selected_studies.append('prad_mich')\n",
        "print(selected_studies)\n",
        "\n",
        "\n"
      ]
    },
    {
      "cell_type": "code",
      "source": [
        "study.get('prad_tcga')"
      ],
      "metadata": {
        "id": "GNI97rgbKJ9-",
        "colab": {
          "base_uri": "https://localhost:8080/",
          "height": 175
        },
        "outputId": "1e32a236-7de4-4a53-9544-c76a58fe26a7"
      },
      "execution_count": null,
      "outputs": [
        {
          "output_type": "error",
          "ename": "NameError",
          "evalue": "ignored",
          "traceback": [
            "\u001b[0;31m---------------------------------------------------------------------------\u001b[0m",
            "\u001b[0;31mNameError\u001b[0m                                 Traceback (most recent call last)",
            "\u001b[0;32m<ipython-input-5-890b46c17057>\u001b[0m in \u001b[0;36m<cell line: 1>\u001b[0;34m()\u001b[0m\n\u001b[0;32m----> 1\u001b[0;31m \u001b[0mstudy\u001b[0m\u001b[0;34m.\u001b[0m\u001b[0mget\u001b[0m\u001b[0;34m(\u001b[0m\u001b[0;34m'prad_tcga'\u001b[0m\u001b[0;34m)\u001b[0m\u001b[0;34m\u001b[0m\u001b[0;34m\u001b[0m\u001b[0m\n\u001b[0m",
            "\u001b[0;31mNameError\u001b[0m: name 'study' is not defined"
          ]
        }
      ]
    },
    {
      "cell_type": "code",
      "execution_count": null,
      "metadata": {
        "colab": {
          "base_uri": "https://localhost:8080/"
        },
        "id": "KXa2C1NVLBLE",
        "outputId": "f4abd83e-0bc7-4df0-ca70-4bf4b07baa68"
      },
      "outputs": [
        {
          "name": "stdout",
          "output_type": "stream",
          "text": [
            "['prad_tcga', 'prad_su2c_2019', 'prad_mcspc_mskcc_2020', 'prad_pik3r1_msk_2021', 'prad_tcga_pan_can_atlas_2018', 'prad_organoids_msk_2022', 'prad_mcspc_mskcc_2020', 'prad_pik3r1_msk_2021', 'prad_mich', 'prad_mskcc_2014']\n",
            "['prad_tcga', 'prad_su2c_2019', 'prad_mcspc_mskcc_2020', 'prad_pik3r1_msk_2021', 'prad_tcga_pan_can_atlas_2018', 'prad_mskcc_2014', 'prad_organoids_msk_2022', 'prad_mich']\n"
          ]
        }
      ],
      "source": [
        "# Now we define 2 lists, one where we put studies with mutation data, and another where we put studies with copy number alteration data (split done manually)\n",
        "selected_studies_mut = selected_studies.copy()\n",
        "selected_studies_mut.remove('prad_mskcc_2014')\n",
        "selected_studies_mut.remove('prad_mich')\n",
        "selected_studies_CNA = ['prad_mcspc_mskcc_2020', 'prad_pik3r1_msk_2021','prad_mich','prad_mskcc_2014']\n",
        "#print(selected_studies_mut)\n",
        "#print(selected_studies_CNA)\n",
        "print(selected_studies_mut+selected_studies_CNA)\n",
        "print(selected_studies)\n",
        "# Define similar list for metastatic cancer, although I think there won't be enough samples\n",
        "#selected_studies_metastatic = ['prad_su2c_2019','prad_mich']\n",
        "#print(selected_studies_metastatic)\n"
      ]
    },
    {
      "cell_type": "code",
      "execution_count": null,
      "metadata": {
        "id": "_uhdP0joJelJ"
      },
      "outputs": [],
      "source": [
        "all_patients_data = [] # List including all of the data from every patient from wanted studies.\n",
        "for i in selected_studies: # Iterates every value from selected_study list.\n",
        "    i\n",
        "    study = cbioportal.Patients.getAllPatientsInStudyUsingGET(studyId=i).result()\n",
        "    all_patients_data.extend(study)\n",
        "all_metastatic_patients_data = [] # Same kind of list as above, but only for metastatic cancer studies.\n",
        "for i in selected_studies_metastatic:\n",
        "    study = cbioportal.Patients.getAllPatientsInStudyUsingGET(studyId=i).result()\n",
        "    all_metastatic_patients_data.extend(study)\n"
      ]
    },
    {
      "cell_type": "code",
      "execution_count": null,
      "metadata": {
        "colab": {
          "base_uri": "https://localhost:8080/"
        },
        "id": "1EBLvsRnKt5b",
        "outputId": "99732646-fefc-43ce-ac4d-015e687aaff8"
      },
      "outputs": [
        {
          "name": "stdout",
          "output_type": "stream",
          "text": [
            "prad_tcga\n",
            "26107\n",
            "prad_su2c_2019\n",
            "40052\n",
            "prad_mcspc_mskcc_2020\n",
            "1861\n",
            "prad_pik3r1_msk_2021\n",
            "4466\n",
            "prad_tcga_pan_can_atlas_2018\n",
            "21448\n",
            "prad_organoids_msk_2022\n",
            "608\n"
          ]
        }
      ],
      "source": [
        "# Function goes through all of the mutations data for given studies and returns every mutations within.\n",
        "# One value in a list includes name of the gene, id of the study and patient id.\n",
        "def list_of_mutations():\n",
        "    muts_list = []\n",
        "    i = 0\n",
        "    while i < len(selected_studies_mut):\n",
        "        ## NEED TO CHECK BELOW IF ALL MUTATIONS INCLUDED; NEED ALSO TO CHECK IF OTHER STUDIES WITH OS_MONTHS\n",
        "        mutations = cbioportal.Mutations.getMutationsInMolecularProfileBySampleListIdUsingGET(\n",
        "            molecularProfileId='{}_mutations'.format(selected_studies_mut[i]),\n",
        "            sampleListId='{}_all'.format(selected_studies_mut[i]),\n",
        "            projection=\"DETAILED\"\n",
        "        ).result()\n",
        "        print(selected_studies_mut[i])\n",
        "        print(len(mutations))\n",
        "        i = i + 1\n",
        "        n = 0\n",
        "        for m in mutations:\n",
        "            gene = mutations[n]['gene']['hugoGeneSymbol']\n",
        "            study = mutations[n]['studyId']\n",
        "            patient = mutations[n]['uniquePatientKey']\n",
        "            patid = mutations[n]['patientId']\n",
        "            n = n + 1\n",
        "            one_value = {'gene': gene, 'study': study, 'uniquePatientKey': patient,'patientId': patid}\n",
        "            muts_list.append(one_value)\n",
        "    return muts_list\n",
        "gene_list = list_of_mutations() # One value in this list is a list including name of the gene ('gene'), id of the study ('study'), uniquePatientKey ('uniquePatientKey') and patientId ('patientId')."
      ]
    },
    {
      "cell_type": "code",
      "execution_count": null,
      "metadata": {
        "id": "i9fLCXfEJfWo"
      },
      "outputs": [],
      "source": [
        "# Now we repeat the above but instead of scoring the gene mutations, we score the changes in gene copy numbers (CNA, Copy Number Alterations)\n",
        "# One limit of our approach (to explain in the discussion of the report) is that genes which showed no mutation in studies where mutation data (but no CNA) was available\n",
        "# might still have CNA (example of samples from selected_studies_mut) and likewise, genes never scored in samples from selected_studies_CNA might have mutations (but we don't know )\n",
        "# because mutations were not scored in all of those studies. So, not ideal. But the data is what it is!\n",
        "\n",
        "# ['prad_tcga', 'prad_su2c_2019', 'prad_mcspc_mskcc_2020', 'prad_pik3r1_msk_2021', 'prad_tcga_pan_can_atlas_2018']\n",
        "\n",
        "# Function goes through all of the mutations data for given studies and returns every CNA within.\n",
        "# One value in a list includes name of the gene, id of the study and patient id.\n",
        "def list_of_CNA():\n",
        "    CNA_list = []\n",
        "    i = 0\n",
        "    while i < len(selected_studies_CNA):\n",
        "        CNAs = cbioportal.Discrete_Copy_Number_Alterations.getDiscreteCopyNumbersInMolecularProfileUsingGET(\n",
        "            molecularProfileId='{}_CNA'.format(selected_studies_CNA[i]),\n",
        "            sampleListId='{}_all'.format(selected_studies_CNA[i]),\n",
        "            projection=\"DETAILED\"\n",
        "        ).result()\n",
        "        print(selected_studies_CNA[i])\n",
        "        print(len(CNAs))\n",
        "        i = i + 1\n",
        "        n = 0\n",
        "        for m in CNAs:\n",
        "            gene = CNAs[n]['gene']['hugoGeneSymbol']\n",
        "            study = CNAs[n]['studyId']\n",
        "            patient = CNAs[n]['uniquePatientKey']\n",
        "            patid = CNAs[n]['patientId']\n",
        "            n = n + 1\n",
        "            one_value = {'gene': gene, 'study': study, 'uniquePatientKey': patient,'patientId': patid}\n",
        "            CNA_list.append(one_value)\n",
        "    return CNA_list"
      ]
    },
    {
      "cell_type": "code",
      "execution_count": null,
      "metadata": {
        "colab": {
          "base_uri": "https://localhost:8080/"
        },
        "id": "yMguhJd0JkVl",
        "outputId": "f56c1f55-1e04-490d-f796-266bc3731aaf"
      },
      "outputs": [
        {
          "name": "stdout",
          "output_type": "stream",
          "text": [
            "prad_mcspc_mskcc_2020\n",
            "1034\n",
            "prad_pik3r1_msk_2021\n",
            "3837\n",
            "prad_mich\n",
            "36353\n",
            "prad_mskcc_2014\n",
            "1481\n"
          ]
        }
      ],
      "source": [
        "# Then we append the list of genes with CNAs to the list of genes with mutations\n",
        "gene_list_CNA = list_of_CNA() # One value in this list is a list including name of the gene ('gene'), id of the study ('study'), uniquePatientKey ('uniquePatientKey') and patientId ('patientId').\n",
        "gene_list = gene_list + gene_list_CNA # final list of gene alterations, including mutations (when available) and Copy Number Alterations (when available)"
      ]
    },
    {
      "cell_type": "code",
      "execution_count": null,
      "metadata": {
        "id": "VmFoIGhGGEvL"
      },
      "outputs": [],
      "source": [
        "# gather the survival information in a unique field \"survival\"\n",
        "for n in all_patients_data:\n",
        "    print(n['patientId'])\n",
        "    patient0_clinicalData = cbioportal.Clinical_Data.getAllClinicalDataOfPatientInStudyUsingGET(studyId = n['studyId'],patientId=n['patientId']).result()\n",
        "    for clinicalfeature in range(len(patient0_clinicalData)):\n",
        "        if patient0_clinicalData[clinicalfeature].clinicalAttributeId == 'OS_MONTHS' or patient0_clinicalData[clinicalfeature].clinicalAttributeId == 'OS_SMP_MONTHS':\n",
        "            n['survival'] = float(patient0_clinicalData[clinicalfeature].value)\n",
        "        if patient0_clinicalData[clinicalfeature].clinicalAttributeId == 'OS_STATUS':\n",
        "            n['dead'] = patient0_clinicalData[clinicalfeature].value\n"
      ]
    },
    {
      "cell_type": "code",
      "execution_count": null,
      "metadata": {
        "colab": {
          "base_uri": "https://localhost:8080/"
        },
        "id": "iou0wjQ4FQ9I",
        "outputId": "a156e96d-8e59-45a9-aabf-f34ef2ef4056"
      },
      "outputs": [
        {
          "name": "stdout",
          "output_type": "stream",
          "text": [
            "Patient(cancerStudy=None, dead='0:LIVING', patientId='TCGA-CH-5767', studyId='prad_tcga', survival=15.05, uniquePatientKey='VENHQS1DSC01NzY3OnByYWRfdGNnYQ', uniqueSampleKey=None)\n"
          ]
        },
        {
          "data": {
            "text/plain": [
              "3037"
            ]
          },
          "execution_count": 18,
          "metadata": {},
          "output_type": "execute_result"
        }
      ],
      "source": [
        "# Removing all the patients without survival value. Maybe I shouldn't? If there is no survival month it means patient is still alive.\n",
        "patients_with_survival = []\n",
        "for i in all_patients_data:\n",
        "  if 'survival' in i:\n",
        "    patients_with_survival.append(i)\n",
        "print(patients_with_survival[0])\n",
        "all_patients_data = patients_with_survival\n",
        "len(all_patients_data)"
      ]
    },
    {
      "cell_type": "code",
      "execution_count": null,
      "metadata": {
        "id": "suy_0AC7yu5B"
      },
      "outputs": [],
      "source": [
        "# Collecting every survival value for a list of NET genes, for the patients with alterations in those genes.\n",
        "def survivalmonths_for_one_list(list_of_nets):\n",
        "  # Take a gene from the list\n",
        "  uniquepatientkeys = []\n",
        "  survival_all = []\n",
        "  survival_all_unaltered = []\n",
        "  # Find all of the patientIDs and uniquepatientkeys.\n",
        "  for i in gene_list:\n",
        "    if i['gene'] in list_of_nets:\n",
        "      #patientIds.append(i['patientId'])\n",
        "      uniquepatientkeys.append(i['uniquePatientKey'])\n",
        "  # Find all of the survival months for the genes.\n",
        "  for i in all_patients_data:\n",
        "    if i['uniquePatientKey'] in uniquepatientkeys: # or i['patientId'] in patientIds\n",
        "      try:\n",
        "        ids = i['uniquePatientKey']\n",
        "        surv = float(i['survival'])\n",
        "        # we define the status of the patient as \"dead\" =1 or \"alive\" = 0, from the \"os_status\" feature of all_patients_data\n",
        "        # which is \"0:living\" or \"1:deceased\"\n",
        "        status=i['dead']\n",
        "        status=float(status[0:1])\n",
        "        surv_ids = [surv, ids, status]\n",
        "        survival_all.append(surv_ids)\n",
        "      except KeyError:\n",
        "        test=1\n",
        "        #alive_all.append(i['uniquePatientKey'])\n",
        "    # We also output the same stuff but for unaltered\n",
        "    else:\n",
        "      try:\n",
        "        ids = i['uniquePatientKey']\n",
        "        surv = float(i['survival'])\n",
        "        # we define the status of the patient as \"dead\" =1 or \"alive\" = 0, from the \"os_status\" feature of all_patients_data\n",
        "        # which is \"0:living\" or \"1:deceased\"\n",
        "        status=i['dead']\n",
        "        status=float(status[0:1])\n",
        "        surv_ids = [surv, ids, status]\n",
        "        survival_all_unaltered.append(surv_ids)\n",
        "      except KeyError:\n",
        "        test=1\n",
        "  return survival_all, survival_all_unaltered\n",
        "\n",
        "\n",
        "\n",
        "\n",
        "# \"Death frequency\"-based analysis:\n",
        "# Counting how many patients alive after 5y for altered AND unaltered groups, divided by number of all patients in altered group.\n",
        "def difference_for_altered_group(list_of_nets):  # k=0 for altered, k=1 for unaltered\n",
        "  altered_of_alt_patients = 0\n",
        "  altered_of_unalt_patients = 0\n",
        "  lista = survivalmonths_for_one_list(list_of_nets)\n",
        "  # Patients alive after 5y (OS_MONTHS > 60) , altered group\n",
        "  dead_after_5y = []\n",
        "  for i in lista[0]:\n",
        "    if i[0] < 60 and i[2] == 1:\n",
        "      dead_after_5y.append(i[0])\n",
        "  # Counting the number of patients alive after 5y divided by all the patients in altered group.\n",
        "  #try:\n",
        "  altered_of_alt_patients = len(dead_after_5y) / len(lista[0]) # alive after 5y in altered group / number of all the altered patients.\n",
        "  #except ZeroDivisionError:\n",
        "  #  if alive_after_5y == []:\n",
        "  #    alive_after_5y = 0\n",
        "  #    altered_of_alt_patients = 100\n",
        "  #  if lista == []:\n",
        "  #    altered_of_alt_patients = 100\n",
        "\n",
        "  # Patients alive after 5y (OS_MONTHS > 60) , unaltered group\n",
        "  dead_after_5y = []\n",
        "  for i in lista[1]:\n",
        "    if i[0] < 60 and i[2] == 1:\n",
        "      dead_after_5y.append(i[1])\n",
        "  # Counting the number of patients alive after 5y divided by all the patients in altered group.\n",
        "  #try:\n",
        "  altered_of_unalt_patients = len(dead_after_5y) / len(lista[1]) # alive after 5y in altered group / number of all the altered patients.\n",
        "  #except ZeroDivisionError:\n",
        "  #  if alive_after_5y == []:\n",
        "  #    alive_after_5y = 0\n",
        "  #    altered_of_alt_patients = 100\n",
        "  #  if lista == []:\n",
        "  #    altered_of_alt_patients = 100\n",
        "\n",
        "  return altered_of_alt_patients, altered_of_unalt_patients\n",
        "\n",
        "\n",
        "\n",
        "\n",
        "# \"Kaplan-Meier\"-based analysis: based on https://www.kdnuggets.com/2020/07/guide-survival-analysis-python-part-2.html\n",
        "# Idea here is to estimate the survival function after 5y for altered AND unaltered groups, and to compute 1- survival function\n",
        "# in order to use the same maximization-based pipeline downstream\n",
        "def difference_for_altered_group_KM(list_of_nets):  # k=0 for altered, k=1 for unaltered\n",
        "  lista = survivalmonths_for_one_list(list_of_nets)\n",
        "  alt_group = lista[0]\n",
        "  unalt_group = lista[1]\n",
        "  # Survival function at 5 years , altered group\n",
        "  kmf1 = KaplanMeierFitter()\n",
        "  kmf1.fit(durations = [row[0] for row in alt_group], event_observed = [row[2] for row in alt_group])\n",
        "  altered_of_alt_patients = 1- kmf1.predict(60)\n",
        "  # Survival function at 5 years , unaltered group\n",
        "  kmf2 = KaplanMeierFitter()\n",
        "  kmf2.fit(durations = [row[0] for row in unalt_group], event_observed = [row[2] for row in unalt_group])\n",
        "  altered_of_unalt_patients = 1- kmf2.predict(60)\n",
        "\n",
        "  return altered_of_alt_patients, altered_of_unalt_patients\n",
        "\n",
        "\n",
        "\n",
        "\n",
        "\n",
        "\n",
        "## Removing used IDs from all_patients_data list.\n",
        "#def edit_all_patients_data(list_of_nets):\n",
        "#  lista = []\n",
        "#  lista2 = survivalmonths_for_one_list(list_of_nets)\n",
        "#  for i in lista2[0]:\n",
        "#    for n in all_patients_data:\n",
        "#      if i[1] in n['uniquePatientKey']:\n",
        "#        lista.append(n)\n",
        "#  list2 = [l for l in all_patients_data if l not in lista]\n",
        "#  return list2\n",
        "\n",
        "\n",
        "## Counting how many patients alive after 5y for unaltered group divided by number of all patients in unaltered group.\n",
        "#def difference_for_unaltered(list_of_nets):\n",
        "#  # Counting number of patients alive after 5y (OS_MONTHS > 60)\n",
        "#  dead_after_5y = []\n",
        "#  lista = edit_all_patients_data(list_of_nets)\n",
        "#  for i in lista:\n",
        "#    if i['survival'] < 60:\n",
        "#      dead_after_5y.append(i['survival'])\n",
        "#  # Lasketaan, paljonko potilaita elossa viiden vuoden jälkeen verrattuna kaikkiin potilaisiin.\n",
        "#  # Counting the number patients alive after 5y for unaltered group divided by number of all patients in unaltered group.\n",
        "#  #try:\n",
        "#  unaltered_of_all_patients = len(dead_after_5y) / len(lista) # patients alive after 5y (all except altered) / number of every patient (except altered)\n",
        "#  #except ZeroDivisionError:\n",
        "#  #  alive_after_5y = 0\n",
        "#  #  unaltered_of_all_patients = 0\n",
        "#  del dead_after_5y\n",
        "#  return unaltered_of_all_patients\n",
        "\n",
        "\n",
        "\n",
        "# Counting difference between unaltered and altered.\n",
        "def count_difference(list_of_nets):\n",
        "  results = difference_for_altered_group(list_of_nets)\n",
        "  #results = difference_for_altered_group_KM(list_of_nets)\n",
        "  altered = results[0]\n",
        "  #print(altered)\n",
        "  #unaltered = difference_for_unaltered(list_of_nets)\n",
        "  #unaltered = difference_for_altered_group(list_of_nets,1)\n",
        "  unaltered = results[1]\n",
        "  #print(unaltered)\n",
        "  #difference = altered - unaltered\n",
        "  difference = altered  # IN THIS CASE, I AM NOT ACCOUNTING FOR THE UNALTERED GROUP SINCE IT IS MIXED WITH THE UNPROFILED.\n",
        "  # I JUST TRY TO MAXIMIZE THE DEATHRATE/MINIMIZE THE KM SURVIVAL FUNCTION OF THE ALTERED GROUP\n",
        "  return difference\n",
        "\n",
        "\n",
        "# splits the original input list into 5 lists of length 20 genes (ish)\n",
        "def create_lists(testlist):\n",
        "  list1 = testlist[0:20]\n",
        "  list2 = testlist[20:40]\n",
        "  list3 = testlist[40:60]\n",
        "  list4 = testlist[60:80]\n",
        "  list5 = testlist[80:]\n",
        "  return list1, list2, list3, list4, list5\n",
        "\n",
        "# Finds the the 'winner' list for one.\n",
        "# Can remove mean counting part. Differences don't have to be list (only one value).\n",
        "def find_every_difference(testlist):\n",
        "  lista=create_lists(testlist)\n",
        "  avg1=count_difference(lista[0])\n",
        "  avg2=count_difference(lista[1])\n",
        "  avg3=count_difference(lista[2])\n",
        "  avg4=count_difference(lista[3])\n",
        "  avg5=count_difference(lista[4])\n",
        "  # Defining the 'best' list\n",
        "  keys = [lista[0],lista[1],lista[2],lista[3],lista[4]]\n",
        "  values = [avg1, avg2, avg3, avg4, avg5]\n",
        "  #print(values)\n",
        "  list_of_winners=keys[values.index(max(values))]\n",
        "  return list_of_winners\n",
        "\n",
        "\n",
        "#list_100 = list containing the name of genes in the \"winner list\" for 100 iterations.\n",
        "def winner_list_100(testlist):\n",
        "  list_100 = []\n",
        "  n = 1\n",
        "  while n < 10001:\n",
        "    print('Round', n)\n",
        "    best_list = find_every_difference(testlist)\n",
        "    #print(best_list)\n",
        "    list_100.extend(best_list)\n",
        "    random.shuffle(testlist)\n",
        "    n = n + 1\n",
        "  return list_100\n"
      ]
    },
    {
      "cell_type": "code",
      "execution_count": null,
      "metadata": {
        "id": "93XFLFLHyvCu",
        "scrolled": true
      },
      "outputs": [],
      "source": [
        "# Call the function to repeat 100 times\n",
        "random_list = winner_list_100(NETs_fullList)\n",
        "\n",
        "# and compute frequencies of appearance in winner list for all genes.\n",
        "# initializing the list\n",
        "frequency = {}\n",
        "# iterating over the list\n",
        "for item in random_list:\n",
        "   # checking the element in dictionary\n",
        "   if item in frequency:\n",
        "      # incrementing the counr\n",
        "      frequency[item] += 1\n",
        "   else:\n",
        "      # initializing the count\n",
        "      frequency[item] = 1\n",
        "\n",
        "# printing the frequency\n",
        "frequency"
      ]
    },
    {
      "cell_type": "code",
      "execution_count": null,
      "metadata": {
        "id": "9lgyR53RyvFT",
        "scrolled": false
      },
      "outputs": [],
      "source": [
        "# Call the function to repeat 100 times\n",
        "random_list = winner_list_100(NETs_fullList2)\n",
        "\n",
        "# and compute frequencies of appearance in winner list for all genes.\n",
        "# initializing the list\n",
        "frequency = {}\n",
        "# iterating over the list\n",
        "for item in random_list:\n",
        "   # checking the element in dictionary\n",
        "   if item in frequency:\n",
        "      # incrementing the counr\n",
        "      frequency[item] += 1\n",
        "   else:\n",
        "      # initializing the count\n",
        "      frequency[item] = 1\n",
        "\n",
        "# printing the frequency\n",
        "frequency"
      ]
    },
    {
      "cell_type": "code",
      "execution_count": null,
      "metadata": {
        "id": "ZsPVazGtyvH5"
      },
      "outputs": [],
      "source": []
    },
    {
      "cell_type": "code",
      "execution_count": null,
      "metadata": {
        "id": "c1wug_QAyvK_"
      },
      "outputs": [],
      "source": []
    },
    {
      "cell_type": "code",
      "execution_count": null,
      "metadata": {
        "id": "AmLVTgglyvNe"
      },
      "outputs": [],
      "source": []
    },
    {
      "cell_type": "code",
      "execution_count": null,
      "metadata": {
        "id": "509PAMELyvQA"
      },
      "outputs": [],
      "source": []
    },
    {
      "cell_type": "code",
      "execution_count": null,
      "metadata": {
        "id": "pe7scKqpyvS1"
      },
      "outputs": [],
      "source": []
    },
    {
      "cell_type": "code",
      "execution_count": null,
      "metadata": {
        "id": "3j0ecAYByvVp"
      },
      "outputs": [],
      "source": []
    },
    {
      "cell_type": "code",
      "execution_count": null,
      "metadata": {
        "id": "H1uLTv34yvX0"
      },
      "outputs": [],
      "source": []
    },
    {
      "cell_type": "code",
      "execution_count": null,
      "metadata": {
        "id": "BnvG1StYyvap"
      },
      "outputs": [],
      "source": []
    },
    {
      "cell_type": "markdown",
      "metadata": {
        "id": "8ok0P5bljvXY"
      },
      "source": []
    }
  ],
  "metadata": {
    "colab": {
      "provenance": [],
      "include_colab_link": true
    },
    "kernelspec": {
      "display_name": "Python 3 (ipykernel)",
      "language": "python",
      "name": "python3"
    },
    "language_info": {
      "codemirror_mode": {
        "name": "ipython",
        "version": 3
      },
      "file_extension": ".py",
      "mimetype": "text/x-python",
      "name": "python",
      "nbconvert_exporter": "python",
      "pygments_lexer": "ipython3",
      "version": "3.9.13"
    }
  },
  "nbformat": 4,
  "nbformat_minor": 0
}